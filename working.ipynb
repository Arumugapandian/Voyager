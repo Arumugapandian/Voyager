{
 "cells": [
  {
   "cell_type": "code",
   "execution_count": 1,
   "metadata": {},
   "outputs": [],
   "source": [
    "import gspread\n",
    "import pandas as pd\n",
    "from fabric import Connection\n",
    "from oauth2client.service_account import ServiceAccountCredentials"
   ]
  },
  {
   "cell_type": "code",
   "execution_count": 2,
   "metadata": {},
   "outputs": [],
   "source": [
    "# OAuth2 credentials and access scope\n",
    "scope = ['https://spreadsheets.google.com/feeds',\n",
    "        'https://www.googleapis.com/auth/drive']\n",
    "credentials = ServiceAccountCredentials.from_json_keyfile_name('client_secret.json', scope)\n",
    "client = gspread.authorize(credentials)"
   ]
  },
  {
   "cell_type": "markdown",
   "metadata": {},
   "source": [
    "Link to the GSheet: \n",
    "https://docs.google.com/spreadsheets/d/1IAINIlaEgBhr2QJA3h9t2zamdaWoLTgWTs232gw2QCs/edit#gid=0\n",
    "\n",
    "In order to import a spreadsheet the user must have a OAuth2 json file as a 'proxy-login'\n",
    "for their account, and for any spreadsheets that we want to view/edit you must share the \n",
    "document with the 'client_email' found in the OAuth2 json file"
   ]
  },
  {
   "cell_type": "code",
   "execution_count": 3,
   "metadata": {},
   "outputs": [],
   "source": [
    "sheet = client.open(\"FASTATest\").sheet1\n",
    "rawdata = sheet.get_all_values()"
   ]
  },
  {
   "cell_type": "code",
   "execution_count": 9,
   "metadata": {},
   "outputs": [
    {
     "data": {
      "text/html": [
       "<div>\n",
       "<style scoped>\n",
       "    .dataframe tbody tr th:only-of-type {\n",
       "        vertical-align: middle;\n",
       "    }\n",
       "\n",
       "    .dataframe tbody tr th {\n",
       "        vertical-align: top;\n",
       "    }\n",
       "\n",
       "    .dataframe thead th {\n",
       "        text-align: right;\n",
       "    }\n",
       "</style>\n",
       "<table border=\"1\" class=\"dataframe\">\n",
       "  <thead>\n",
       "    <tr style=\"text-align: right;\">\n",
       "      <th></th>\n",
       "      <th>Sequence</th>\n",
       "      <th>Header</th>\n",
       "    </tr>\n",
       "    <tr>\n",
       "      <th>Target</th>\n",
       "      <th></th>\n",
       "      <th></th>\n",
       "    </tr>\n",
       "  </thead>\n",
       "  <tbody>\n",
       "    <tr>\n",
       "      <th>1UBQ</th>\n",
       "      <td>MQIFVKTLTGKTITLEVEPSDTIENVKAKIQDKEGIPPDQQRLIFA...</td>\n",
       "      <td>&gt;1UBQ:A|PDBID|CHAIN|SEQUENCE</td>\n",
       "    </tr>\n",
       "    <tr>\n",
       "      <th>A1INK5</th>\n",
       "      <td>RYADYPEVHTTWNVISTIGSTISFLGILYFFYIIWESLITQRMVLF...</td>\n",
       "      <td></td>\n",
       "    </tr>\n",
       "    <tr>\n",
       "      <th>K1SNC9</th>\n",
       "      <td>PYAVTKADFISERKHNSLPVMPNAYGHTEYDENGNTYLCFDKGESD...</td>\n",
       "      <td></td>\n",
       "    </tr>\n",
       "    <tr>\n",
       "      <th>G3MEH5</th>\n",
       "      <td>EDGINQVQSSVAEYPEAITYLLEQYDKYEAEQLRLSDIISGFIDPN...</td>\n",
       "      <td></td>\n",
       "    </tr>\n",
       "    <tr>\n",
       "      <th>T1UMN5</th>\n",
       "      <td>MFPILSQFLNSGQQTIRAARYIGQGFMITLSHANRLPVTIQYPYEK...</td>\n",
       "      <td></td>\n",
       "    </tr>\n",
       "  </tbody>\n",
       "</table>\n",
       "</div>"
      ],
      "text/plain": [
       "                                                 Sequence  \\\n",
       "Target                                                      \n",
       "1UBQ    MQIFVKTLTGKTITLEVEPSDTIENVKAKIQDKEGIPPDQQRLIFA...   \n",
       "A1INK5  RYADYPEVHTTWNVISTIGSTISFLGILYFFYIIWESLITQRMVLF...   \n",
       "K1SNC9  PYAVTKADFISERKHNSLPVMPNAYGHTEYDENGNTYLCFDKGESD...   \n",
       "G3MEH5  EDGINQVQSSVAEYPEAITYLLEQYDKYEAEQLRLSDIISGFIDPN...   \n",
       "T1UMN5  MFPILSQFLNSGQQTIRAARYIGQGFMITLSHANRLPVTIQYPYEK...   \n",
       "\n",
       "                              Header  \n",
       "Target                                \n",
       "1UBQ    >1UBQ:A|PDBID|CHAIN|SEQUENCE  \n",
       "A1INK5                                \n",
       "K1SNC9                                \n",
       "G3MEH5                                \n",
       "T1UMN5                                "
      ]
     },
     "execution_count": 9,
     "metadata": {},
     "output_type": "execute_result"
    }
   ],
   "source": [
    "df = pd.DataFrame(rawdata[1:], columns=rawdata[0])\n",
    "df = df.set_index('Target')\n",
    "df"
   ]
  },
  {
   "cell_type": "code",
   "execution_count": 5,
   "metadata": {},
   "outputs": [
    {
     "data": {
      "text/plain": [
       "'MQIFVKTLTGKTITLEVEPSDTIENVKAKIQDKEGIPPDQQRLIFAGKQLEDGRTLSDYNIQKESTLHLVLRLRGG'"
      ]
     },
     "execution_count": 5,
     "metadata": {},
     "output_type": "execute_result"
    }
   ],
   "source": [
    "df.loc[\"1UBQ\"][\"Sequence\"]"
   ]
  },
  {
   "cell_type": "markdown",
   "metadata": {},
   "source": [
    "Note that every Fabric run command is in 'separated' environments. \n",
    "(I.e. no 'cd' command)\n",
    "So, we're going to have to get creative with absolute paths and linking commands via: '&&'\n"
   ]
  },
  {
   "cell_type": "code",
   "execution_count": 10,
   "metadata": {
    "scrolled": true
   },
   "outputs": [],
   "source": [
    "REMOTENAME = '#####'\n",
    "\"\"\"\n",
    "with Connection(REMOTENAME) as remotehost:\n",
    "    while True:\n",
    "        cmd = input('$ ')\n",
    "        if cmd:\n",
    "            remotehost.run(cmd)\n",
    "        else:\n",
    "            break\n",
    "\"\"\"\n",
    "c = Connection(REMOTENAME)\n",
    "dirlist = c.run('ls', hide=True).stdout.strip().split('\\n')"
   ]
  },
  {
   "cell_type": "code",
   "execution_count": 7,
   "metadata": {
    "scrolled": true
   },
   "outputs": [
    {
     "data": {
      "text/plain": [
       "[',',\n",
       " '1a9u.pdb',\n",
       " '1cmy.pdb',\n",
       " '1db1.pdb',\n",
       " '1ijt.pdb',\n",
       " '1stroundtest',\n",
       " '1ubq.pdb',\n",
       " '1xp1.pdb',\n",
       " '2ndroundtest',\n",
       " '48cmy.maegz',\n",
       " '4_struct.log',\n",
       " '4_struct.mae',\n",
       " '4_struct.out.maegz',\n",
       " 'ac_gpu_subtest',\n",
       " 'advancedmd5sum.txt',\n",
       " 'aq',\n",
       " 'AQPanelError.txt',\n",
       " 'aqtest',\n",
       " 'aqtut181',\n",
       " 'archb.mae',\n",
       " 'AutoQSARBuild_1090889929_build.okay',\n",
       " 'AutoQSARBuild_1090889929.qzip',\n",
       " 'bigfasta',\n",
       " 'cantest.snv.cnv',\n",
       " 'close_browser.py',\n",
       " 'Desktop',\n",
       " 'disktools',\n",
       " 'disktools.zip',\n",
       " 'Documents',\n",
       " 'Downloads',\n",
       " 'envtest',\n",
       " 'exp_test01.csv',\n",
       " 'factorXa_affinity_model.qzip',\n",
       " 'fxa_1z6e_train.maegz',\n",
       " 'fxa_prediction-out.mae.gz',\n",
       " 'fxa_predict.maegz',\n",
       " 'intel',\n",
       " 'kpls_dendritic_10.log',\n",
       " 'Library',\n",
       " 'licenses',\n",
       " 'localhost-gpu.error',\n",
       " 'mmod_drive_1',\n",
       " 'mmod_energy_1',\n",
       " 'Movies',\n",
       " 'Music',\n",
       " 'mutagenicity_2D_train_small.maegz',\n",
       " 'mutagen_model.qzip',\n",
       " 'mutagen_prediction-out.mae.gz',\n",
       " 'mutagen_predict.maegz',\n",
       " 'notqsarbuild_report.okay',\n",
       " 'output.csv',\n",
       " 'P17787.fasta',\n",
       " 'p17887.fasta',\n",
       " 'P17887.fasta',\n",
       " 'Pictures',\n",
       " 'postmortem-7ff8-d9d1-de34-e73e',\n",
       " 'prepwizard.log',\n",
       " 'prepwizard_workdir',\n",
       " 'Public',\n",
       " 'qsar_build_1',\n",
       " 'qsar_build_1_report.okay',\n",
       " 'qsar_build_2',\n",
       " 'qsar_build_bolt2',\n",
       " 'qsar_build_lhg',\n",
       " 'qsar_build_lhg2',\n",
       " 'scaffold_decomp',\n",
       " 'SchroDrive',\n",
       " 'schroenv',\n",
       " 'spectralcluster_1',\n",
       " 'spectral_cluster_debug.txt',\n",
       " 'spectral_clust-fingerprints.sqlite',\n",
       " 'spectral_clust-out.maegz',\n",
       " 'spectral_clust-similarities.csv',\n",
       " 'squish.log',\n",
       " 'stu_28838',\n",
       " 'stutest',\n",
       " 'suite_maestro_Window_Menu',\n",
       " 'svm_squish',\n",
       " 'temp',\n",
       " 'Templates',\n",
       " 'test.py',\n",
       " 'tst.csv',\n",
       " 'Videos',\n",
       " 'workspace']"
      ]
     },
     "execution_count": 7,
     "metadata": {},
     "output_type": "execute_result"
    }
   ],
   "source": [
    "dirlist"
   ]
  },
  {
   "cell_type": "code",
   "execution_count": 11,
   "metadata": {},
   "outputs": [
    {
     "data": {
      "text/plain": [
       "84"
      ]
     },
     "execution_count": 11,
     "metadata": {},
     "output_type": "execute_result"
    }
   ],
   "source": [
    "len(dirlist)"
   ]
  },
  {
   "cell_type": "code",
   "execution_count": null,
   "metadata": {},
   "outputs": [],
   "source": [
    "c."
   ]
  }
 ],
 "metadata": {
  "kernelspec": {
   "display_name": "Python 3",
   "language": "python",
   "name": "python3"
  },
  "language_info": {
   "codemirror_mode": {
    "name": "ipython",
    "version": 3
   },
   "file_extension": ".py",
   "mimetype": "text/x-python",
   "name": "python",
   "nbconvert_exporter": "python",
   "pygments_lexer": "ipython3",
   "version": "3.6.6"
  }
 },
 "nbformat": 4,
 "nbformat_minor": 2
}
